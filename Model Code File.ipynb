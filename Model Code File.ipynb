{
 "cells": [
  {
   "cell_type": "markdown",
   "metadata": {},
   "source": [
    "# IMPORTING LIBRARIES"
   ]
  },
  {
   "cell_type": "code",
   "execution_count": 1,
   "metadata": {},
   "outputs": [],
   "source": [
    "import pandas as pd\n",
    "import numpy as np\n",
    "import matplotlib.pyplot as plt"
   ]
  },
  {
   "cell_type": "markdown",
   "metadata": {},
   "source": [
    "# IMPORTING DATASET"
   ]
  },
  {
   "cell_type": "code",
   "execution_count": 2,
   "metadata": {},
   "outputs": [],
   "source": [
    "dataset=pd.read_csv('CO2 Emissions_Canada.csv')"
   ]
  },
  {
   "cell_type": "code",
   "execution_count": 3,
   "metadata": {},
   "outputs": [
    {
     "data": {
      "text/html": [
       "<div>\n",
       "<style scoped>\n",
       "    .dataframe tbody tr th:only-of-type {\n",
       "        vertical-align: middle;\n",
       "    }\n",
       "\n",
       "    .dataframe tbody tr th {\n",
       "        vertical-align: top;\n",
       "    }\n",
       "\n",
       "    .dataframe thead th {\n",
       "        text-align: right;\n",
       "    }\n",
       "</style>\n",
       "<table border=\"1\" class=\"dataframe\">\n",
       "  <thead>\n",
       "    <tr style=\"text-align: right;\">\n",
       "      <th></th>\n",
       "      <th>Make</th>\n",
       "      <th>Model</th>\n",
       "      <th>Vehicle Class</th>\n",
       "      <th>Engine Size(L)</th>\n",
       "      <th>Cylinders</th>\n",
       "      <th>Transmission</th>\n",
       "      <th>Fuel Type</th>\n",
       "      <th>Fuel Consumption City (L/100 km)</th>\n",
       "      <th>Fuel Consumption Hwy (L/100 km)</th>\n",
       "      <th>Fuel Consumption Comb (L/100 km)</th>\n",
       "      <th>Fuel Consumption Comb (mpg)</th>\n",
       "      <th>CO2 Emissions(g/km)</th>\n",
       "    </tr>\n",
       "  </thead>\n",
       "  <tbody>\n",
       "    <tr>\n",
       "      <td>0</td>\n",
       "      <td>ACURA</td>\n",
       "      <td>ILX</td>\n",
       "      <td>COMPACT</td>\n",
       "      <td>2.0</td>\n",
       "      <td>4</td>\n",
       "      <td>AS5</td>\n",
       "      <td>Z</td>\n",
       "      <td>9.9</td>\n",
       "      <td>6.7</td>\n",
       "      <td>8.5</td>\n",
       "      <td>33</td>\n",
       "      <td>196</td>\n",
       "    </tr>\n",
       "    <tr>\n",
       "      <td>1</td>\n",
       "      <td>ACURA</td>\n",
       "      <td>ILX</td>\n",
       "      <td>COMPACT</td>\n",
       "      <td>2.4</td>\n",
       "      <td>4</td>\n",
       "      <td>M6</td>\n",
       "      <td>Z</td>\n",
       "      <td>11.2</td>\n",
       "      <td>7.7</td>\n",
       "      <td>9.6</td>\n",
       "      <td>29</td>\n",
       "      <td>221</td>\n",
       "    </tr>\n",
       "    <tr>\n",
       "      <td>2</td>\n",
       "      <td>ACURA</td>\n",
       "      <td>ILX HYBRID</td>\n",
       "      <td>COMPACT</td>\n",
       "      <td>1.5</td>\n",
       "      <td>4</td>\n",
       "      <td>AV7</td>\n",
       "      <td>Z</td>\n",
       "      <td>6.0</td>\n",
       "      <td>5.8</td>\n",
       "      <td>5.9</td>\n",
       "      <td>48</td>\n",
       "      <td>136</td>\n",
       "    </tr>\n",
       "    <tr>\n",
       "      <td>3</td>\n",
       "      <td>ACURA</td>\n",
       "      <td>MDX 4WD</td>\n",
       "      <td>SUV - SMALL</td>\n",
       "      <td>3.5</td>\n",
       "      <td>6</td>\n",
       "      <td>AS6</td>\n",
       "      <td>Z</td>\n",
       "      <td>12.7</td>\n",
       "      <td>9.1</td>\n",
       "      <td>11.1</td>\n",
       "      <td>25</td>\n",
       "      <td>255</td>\n",
       "    </tr>\n",
       "    <tr>\n",
       "      <td>4</td>\n",
       "      <td>ACURA</td>\n",
       "      <td>RDX AWD</td>\n",
       "      <td>SUV - SMALL</td>\n",
       "      <td>3.5</td>\n",
       "      <td>6</td>\n",
       "      <td>AS6</td>\n",
       "      <td>Z</td>\n",
       "      <td>12.1</td>\n",
       "      <td>8.7</td>\n",
       "      <td>10.6</td>\n",
       "      <td>27</td>\n",
       "      <td>244</td>\n",
       "    </tr>\n",
       "    <tr>\n",
       "      <td>...</td>\n",
       "      <td>...</td>\n",
       "      <td>...</td>\n",
       "      <td>...</td>\n",
       "      <td>...</td>\n",
       "      <td>...</td>\n",
       "      <td>...</td>\n",
       "      <td>...</td>\n",
       "      <td>...</td>\n",
       "      <td>...</td>\n",
       "      <td>...</td>\n",
       "      <td>...</td>\n",
       "      <td>...</td>\n",
       "    </tr>\n",
       "    <tr>\n",
       "      <td>7380</td>\n",
       "      <td>VOLVO</td>\n",
       "      <td>XC40 T5 AWD</td>\n",
       "      <td>SUV - SMALL</td>\n",
       "      <td>2.0</td>\n",
       "      <td>4</td>\n",
       "      <td>AS8</td>\n",
       "      <td>Z</td>\n",
       "      <td>10.7</td>\n",
       "      <td>7.7</td>\n",
       "      <td>9.4</td>\n",
       "      <td>30</td>\n",
       "      <td>219</td>\n",
       "    </tr>\n",
       "    <tr>\n",
       "      <td>7381</td>\n",
       "      <td>VOLVO</td>\n",
       "      <td>XC60 T5 AWD</td>\n",
       "      <td>SUV - SMALL</td>\n",
       "      <td>2.0</td>\n",
       "      <td>4</td>\n",
       "      <td>AS8</td>\n",
       "      <td>Z</td>\n",
       "      <td>11.2</td>\n",
       "      <td>8.3</td>\n",
       "      <td>9.9</td>\n",
       "      <td>29</td>\n",
       "      <td>232</td>\n",
       "    </tr>\n",
       "    <tr>\n",
       "      <td>7382</td>\n",
       "      <td>VOLVO</td>\n",
       "      <td>XC60 T6 AWD</td>\n",
       "      <td>SUV - SMALL</td>\n",
       "      <td>2.0</td>\n",
       "      <td>4</td>\n",
       "      <td>AS8</td>\n",
       "      <td>Z</td>\n",
       "      <td>11.7</td>\n",
       "      <td>8.6</td>\n",
       "      <td>10.3</td>\n",
       "      <td>27</td>\n",
       "      <td>240</td>\n",
       "    </tr>\n",
       "    <tr>\n",
       "      <td>7383</td>\n",
       "      <td>VOLVO</td>\n",
       "      <td>XC90 T5 AWD</td>\n",
       "      <td>SUV - STANDARD</td>\n",
       "      <td>2.0</td>\n",
       "      <td>4</td>\n",
       "      <td>AS8</td>\n",
       "      <td>Z</td>\n",
       "      <td>11.2</td>\n",
       "      <td>8.3</td>\n",
       "      <td>9.9</td>\n",
       "      <td>29</td>\n",
       "      <td>232</td>\n",
       "    </tr>\n",
       "    <tr>\n",
       "      <td>7384</td>\n",
       "      <td>VOLVO</td>\n",
       "      <td>XC90 T6 AWD</td>\n",
       "      <td>SUV - STANDARD</td>\n",
       "      <td>2.0</td>\n",
       "      <td>4</td>\n",
       "      <td>AS8</td>\n",
       "      <td>Z</td>\n",
       "      <td>12.2</td>\n",
       "      <td>8.7</td>\n",
       "      <td>10.7</td>\n",
       "      <td>26</td>\n",
       "      <td>248</td>\n",
       "    </tr>\n",
       "  </tbody>\n",
       "</table>\n",
       "<p>7385 rows × 12 columns</p>\n",
       "</div>"
      ],
      "text/plain": [
       "       Make        Model   Vehicle Class  Engine Size(L)  Cylinders  \\\n",
       "0     ACURA          ILX         COMPACT             2.0          4   \n",
       "1     ACURA          ILX         COMPACT             2.4          4   \n",
       "2     ACURA   ILX HYBRID         COMPACT             1.5          4   \n",
       "3     ACURA      MDX 4WD     SUV - SMALL             3.5          6   \n",
       "4     ACURA      RDX AWD     SUV - SMALL             3.5          6   \n",
       "...     ...          ...             ...             ...        ...   \n",
       "7380  VOLVO  XC40 T5 AWD     SUV - SMALL             2.0          4   \n",
       "7381  VOLVO  XC60 T5 AWD     SUV - SMALL             2.0          4   \n",
       "7382  VOLVO  XC60 T6 AWD     SUV - SMALL             2.0          4   \n",
       "7383  VOLVO  XC90 T5 AWD  SUV - STANDARD             2.0          4   \n",
       "7384  VOLVO  XC90 T6 AWD  SUV - STANDARD             2.0          4   \n",
       "\n",
       "     Transmission Fuel Type  Fuel Consumption City (L/100 km)  \\\n",
       "0             AS5         Z                               9.9   \n",
       "1              M6         Z                              11.2   \n",
       "2             AV7         Z                               6.0   \n",
       "3             AS6         Z                              12.7   \n",
       "4             AS6         Z                              12.1   \n",
       "...           ...       ...                               ...   \n",
       "7380          AS8         Z                              10.7   \n",
       "7381          AS8         Z                              11.2   \n",
       "7382          AS8         Z                              11.7   \n",
       "7383          AS8         Z                              11.2   \n",
       "7384          AS8         Z                              12.2   \n",
       "\n",
       "      Fuel Consumption Hwy (L/100 km)  Fuel Consumption Comb (L/100 km)  \\\n",
       "0                                 6.7                               8.5   \n",
       "1                                 7.7                               9.6   \n",
       "2                                 5.8                               5.9   \n",
       "3                                 9.1                              11.1   \n",
       "4                                 8.7                              10.6   \n",
       "...                               ...                               ...   \n",
       "7380                              7.7                               9.4   \n",
       "7381                              8.3                               9.9   \n",
       "7382                              8.6                              10.3   \n",
       "7383                              8.3                               9.9   \n",
       "7384                              8.7                              10.7   \n",
       "\n",
       "      Fuel Consumption Comb (mpg)  CO2 Emissions(g/km)  \n",
       "0                              33                  196  \n",
       "1                              29                  221  \n",
       "2                              48                  136  \n",
       "3                              25                  255  \n",
       "4                              27                  244  \n",
       "...                           ...                  ...  \n",
       "7380                           30                  219  \n",
       "7381                           29                  232  \n",
       "7382                           27                  240  \n",
       "7383                           29                  232  \n",
       "7384                           26                  248  \n",
       "\n",
       "[7385 rows x 12 columns]"
      ]
     },
     "execution_count": 3,
     "metadata": {},
     "output_type": "execute_result"
    }
   ],
   "source": [
    "dataset"
   ]
  },
  {
   "cell_type": "markdown",
   "metadata": {},
   "source": [
    "# TO CHECK NULL VALUES"
   ]
  },
  {
   "cell_type": "code",
   "execution_count": 4,
   "metadata": {
    "scrolled": true
   },
   "outputs": [
    {
     "data": {
      "text/plain": [
       "False"
      ]
     },
     "execution_count": 4,
     "metadata": {},
     "output_type": "execute_result"
    }
   ],
   "source": [
    "dataset.isnull().any().any()"
   ]
  },
  {
   "cell_type": "code",
   "execution_count": 5,
   "metadata": {},
   "outputs": [
    {
     "data": {
      "text/plain": [
       "Make                                 object\n",
       "Model                                object\n",
       "Vehicle Class                        object\n",
       "Engine Size(L)                      float64\n",
       "Cylinders                             int64\n",
       "Transmission                         object\n",
       "Fuel Type                            object\n",
       "Fuel Consumption City (L/100 km)    float64\n",
       "Fuel Consumption Hwy (L/100 km)     float64\n",
       "Fuel Consumption Comb (L/100 km)    float64\n",
       "Fuel Consumption Comb (mpg)           int64\n",
       "CO2 Emissions(g/km)                   int64\n",
       "dtype: object"
      ]
     },
     "execution_count": 5,
     "metadata": {},
     "output_type": "execute_result"
    }
   ],
   "source": [
    "dataset.dtypes"
   ]
  },
  {
   "cell_type": "code",
   "execution_count": 6,
   "metadata": {},
   "outputs": [
    {
     "data": {
      "text/plain": [
       "dtype('O')"
      ]
     },
     "execution_count": 6,
     "metadata": {},
     "output_type": "execute_result"
    }
   ],
   "source": [
    "dataset['Make'].dtypes"
   ]
  },
  {
   "cell_type": "code",
   "execution_count": 7,
   "metadata": {},
   "outputs": [
    {
     "data": {
      "text/plain": [
       "FORD             628\n",
       "CHEVROLET        588\n",
       "BMW              527\n",
       "MERCEDES-BENZ    419\n",
       "PORSCHE          376\n",
       "TOYOTA           330\n",
       "GMC              328\n",
       "AUDI             286\n",
       "NISSAN           259\n",
       "JEEP             251\n",
       "DODGE            246\n",
       "KIA              231\n",
       "HONDA            214\n",
       "HYUNDAI          210\n",
       "MINI             204\n",
       "VOLKSWAGEN       197\n",
       "MAZDA            180\n",
       "LEXUS            178\n",
       "JAGUAR           160\n",
       "CADILLAC         158\n",
       "SUBARU           140\n",
       "VOLVO            124\n",
       "INFINITI         108\n",
       "BUICK            103\n",
       "RAM               97\n",
       "LINCOLN           96\n",
       "MITSUBISHI        95\n",
       "CHRYSLER          88\n",
       "LAND ROVER        85\n",
       "FIAT              73\n",
       "ACURA             72\n",
       "MASERATI          61\n",
       "ROLLS-ROYCE       50\n",
       "ASTON MARTIN      47\n",
       "BENTLEY           46\n",
       "LAMBORGHINI       41\n",
       "ALFA ROMEO        30\n",
       "GENESIS           25\n",
       "SCION             22\n",
       "SMART              7\n",
       "BUGATTI            3\n",
       "SRT                2\n",
       "Name: Make, dtype: int64"
      ]
     },
     "execution_count": 7,
     "metadata": {},
     "output_type": "execute_result"
    }
   ],
   "source": [
    "dataset['Make'].value_counts()"
   ]
  },
  {
   "cell_type": "code",
   "execution_count": 8,
   "metadata": {},
   "outputs": [
    {
     "data": {
      "text/plain": [
       "F-150 FFV             32\n",
       "F-150 FFV 4X4         32\n",
       "MUSTANG               27\n",
       "FOCUS FFV             24\n",
       "F-150 4X4             20\n",
       "                      ..\n",
       "M340i xDrive Sedan     1\n",
       "XE P250 AWD            1\n",
       "230i Coupe             1\n",
       "AMG S 65 Cabriolet     1\n",
       "V60 CC                 1\n",
       "Name: Model, Length: 2053, dtype: int64"
      ]
     },
     "execution_count": 8,
     "metadata": {},
     "output_type": "execute_result"
    }
   ],
   "source": [
    "dataset['Model'].value_counts()"
   ]
  },
  {
   "cell_type": "code",
   "execution_count": 9,
   "metadata": {},
   "outputs": [
    {
     "data": {
      "text/plain": [
       "SUV - SMALL                 1217\n",
       "MID-SIZE                    1133\n",
       "COMPACT                     1022\n",
       "SUV - STANDARD               735\n",
       "FULL-SIZE                    639\n",
       "SUBCOMPACT                   606\n",
       "PICKUP TRUCK - STANDARD      538\n",
       "TWO-SEATER                   460\n",
       "MINICOMPACT                  326\n",
       "STATION WAGON - SMALL        252\n",
       "PICKUP TRUCK - SMALL         159\n",
       "MINIVAN                       80\n",
       "SPECIAL PURPOSE VEHICLE       77\n",
       "VAN - PASSENGER               66\n",
       "STATION WAGON - MID-SIZE      53\n",
       "VAN - CARGO                   22\n",
       "Name: Vehicle Class, dtype: int64"
      ]
     },
     "execution_count": 9,
     "metadata": {},
     "output_type": "execute_result"
    }
   ],
   "source": [
    "dataset['Vehicle Class'].value_counts()"
   ]
  },
  {
   "cell_type": "code",
   "execution_count": 10,
   "metadata": {},
   "outputs": [
    {
     "data": {
      "text/plain": [
       "AS6     1324\n",
       "AS8     1211\n",
       "M6       901\n",
       "A6       789\n",
       "A8       490\n",
       "AM7      445\n",
       "A9       339\n",
       "AS7      319\n",
       "AV       295\n",
       "M5       193\n",
       "AS10     168\n",
       "AM6      132\n",
       "AV7      118\n",
       "AV6      113\n",
       "M7        91\n",
       "A5        84\n",
       "AS9       77\n",
       "A4        65\n",
       "AM8       62\n",
       "A7        53\n",
       "AV8       39\n",
       "A10       31\n",
       "AS5       26\n",
       "AV10      11\n",
       "AM5        4\n",
       "AM9        3\n",
       "AS4        2\n",
       "Name: Transmission, dtype: int64"
      ]
     },
     "execution_count": 10,
     "metadata": {},
     "output_type": "execute_result"
    }
   ],
   "source": [
    "dataset['Transmission'].value_counts()"
   ]
  },
  {
   "cell_type": "code",
   "execution_count": 11,
   "metadata": {},
   "outputs": [
    {
     "data": {
      "text/plain": [
       "X    3637\n",
       "Z    3202\n",
       "E     370\n",
       "D     175\n",
       "N       1\n",
       "Name: Fuel Type, dtype: int64"
      ]
     },
     "execution_count": 11,
     "metadata": {},
     "output_type": "execute_result"
    }
   ],
   "source": [
    "dataset['Fuel Type'].value_counts()"
   ]
  },
  {
   "cell_type": "code",
   "execution_count": 12,
   "metadata": {},
   "outputs": [
    {
     "data": {
      "text/html": [
       "<div>\n",
       "<style scoped>\n",
       "    .dataframe tbody tr th:only-of-type {\n",
       "        vertical-align: middle;\n",
       "    }\n",
       "\n",
       "    .dataframe tbody tr th {\n",
       "        vertical-align: top;\n",
       "    }\n",
       "\n",
       "    .dataframe thead th {\n",
       "        text-align: right;\n",
       "    }\n",
       "</style>\n",
       "<table border=\"1\" class=\"dataframe\">\n",
       "  <thead>\n",
       "    <tr style=\"text-align: right;\">\n",
       "      <th></th>\n",
       "      <th>Engine Size(L)</th>\n",
       "      <th>Cylinders</th>\n",
       "      <th>Fuel Consumption City (L/100 km)</th>\n",
       "      <th>Fuel Consumption Hwy (L/100 km)</th>\n",
       "      <th>Fuel Consumption Comb (L/100 km)</th>\n",
       "      <th>Fuel Consumption Comb (mpg)</th>\n",
       "      <th>CO2 Emissions(g/km)</th>\n",
       "    </tr>\n",
       "  </thead>\n",
       "  <tbody>\n",
       "    <tr>\n",
       "      <td>count</td>\n",
       "      <td>7385.000000</td>\n",
       "      <td>7385.000000</td>\n",
       "      <td>7385.000000</td>\n",
       "      <td>7385.000000</td>\n",
       "      <td>7385.000000</td>\n",
       "      <td>7385.000000</td>\n",
       "      <td>7385.000000</td>\n",
       "    </tr>\n",
       "    <tr>\n",
       "      <td>mean</td>\n",
       "      <td>3.160068</td>\n",
       "      <td>5.615030</td>\n",
       "      <td>12.556534</td>\n",
       "      <td>9.041706</td>\n",
       "      <td>10.975071</td>\n",
       "      <td>27.481652</td>\n",
       "      <td>250.584699</td>\n",
       "    </tr>\n",
       "    <tr>\n",
       "      <td>std</td>\n",
       "      <td>1.354170</td>\n",
       "      <td>1.828307</td>\n",
       "      <td>3.500274</td>\n",
       "      <td>2.224456</td>\n",
       "      <td>2.892506</td>\n",
       "      <td>7.231879</td>\n",
       "      <td>58.512679</td>\n",
       "    </tr>\n",
       "    <tr>\n",
       "      <td>min</td>\n",
       "      <td>0.900000</td>\n",
       "      <td>3.000000</td>\n",
       "      <td>4.200000</td>\n",
       "      <td>4.000000</td>\n",
       "      <td>4.100000</td>\n",
       "      <td>11.000000</td>\n",
       "      <td>96.000000</td>\n",
       "    </tr>\n",
       "    <tr>\n",
       "      <td>25%</td>\n",
       "      <td>2.000000</td>\n",
       "      <td>4.000000</td>\n",
       "      <td>10.100000</td>\n",
       "      <td>7.500000</td>\n",
       "      <td>8.900000</td>\n",
       "      <td>22.000000</td>\n",
       "      <td>208.000000</td>\n",
       "    </tr>\n",
       "    <tr>\n",
       "      <td>50%</td>\n",
       "      <td>3.000000</td>\n",
       "      <td>6.000000</td>\n",
       "      <td>12.100000</td>\n",
       "      <td>8.700000</td>\n",
       "      <td>10.600000</td>\n",
       "      <td>27.000000</td>\n",
       "      <td>246.000000</td>\n",
       "    </tr>\n",
       "    <tr>\n",
       "      <td>75%</td>\n",
       "      <td>3.700000</td>\n",
       "      <td>6.000000</td>\n",
       "      <td>14.600000</td>\n",
       "      <td>10.200000</td>\n",
       "      <td>12.600000</td>\n",
       "      <td>32.000000</td>\n",
       "      <td>288.000000</td>\n",
       "    </tr>\n",
       "    <tr>\n",
       "      <td>max</td>\n",
       "      <td>8.400000</td>\n",
       "      <td>16.000000</td>\n",
       "      <td>30.600000</td>\n",
       "      <td>20.600000</td>\n",
       "      <td>26.100000</td>\n",
       "      <td>69.000000</td>\n",
       "      <td>522.000000</td>\n",
       "    </tr>\n",
       "  </tbody>\n",
       "</table>\n",
       "</div>"
      ],
      "text/plain": [
       "       Engine Size(L)    Cylinders  Fuel Consumption City (L/100 km)  \\\n",
       "count     7385.000000  7385.000000                       7385.000000   \n",
       "mean         3.160068     5.615030                         12.556534   \n",
       "std          1.354170     1.828307                          3.500274   \n",
       "min          0.900000     3.000000                          4.200000   \n",
       "25%          2.000000     4.000000                         10.100000   \n",
       "50%          3.000000     6.000000                         12.100000   \n",
       "75%          3.700000     6.000000                         14.600000   \n",
       "max          8.400000    16.000000                         30.600000   \n",
       "\n",
       "       Fuel Consumption Hwy (L/100 km)  Fuel Consumption Comb (L/100 km)  \\\n",
       "count                      7385.000000                       7385.000000   \n",
       "mean                          9.041706                         10.975071   \n",
       "std                           2.224456                          2.892506   \n",
       "min                           4.000000                          4.100000   \n",
       "25%                           7.500000                          8.900000   \n",
       "50%                           8.700000                         10.600000   \n",
       "75%                          10.200000                         12.600000   \n",
       "max                          20.600000                         26.100000   \n",
       "\n",
       "       Fuel Consumption Comb (mpg)  CO2 Emissions(g/km)  \n",
       "count                  7385.000000          7385.000000  \n",
       "mean                     27.481652           250.584699  \n",
       "std                       7.231879            58.512679  \n",
       "min                      11.000000            96.000000  \n",
       "25%                      22.000000           208.000000  \n",
       "50%                      27.000000           246.000000  \n",
       "75%                      32.000000           288.000000  \n",
       "max                      69.000000           522.000000  "
      ]
     },
     "execution_count": 12,
     "metadata": {},
     "output_type": "execute_result"
    }
   ],
   "source": [
    "dataset.describe()"
   ]
  },
  {
   "cell_type": "markdown",
   "metadata": {},
   "source": [
    "# TO CHECK OUTLIERS"
   ]
  },
  {
   "cell_type": "code",
   "execution_count": 13,
   "metadata": {},
   "outputs": [
    {
     "data": {
      "text/plain": [
       "<matplotlib.axes._subplots.AxesSubplot at 0x1ac540f33c8>"
      ]
     },
     "execution_count": 13,
     "metadata": {},
     "output_type": "execute_result"
    },
    {
     "data": {
      "image/png": "[encoded data removed]",
      "text/plain": [
       "<Figure size 432x288 with 1 Axes>"
      ]
     },
     "metadata": {
      "needs_background": "light"
     },
     "output_type": "display_data"
    }
   ],
   "source": [
    "import seaborn as sns\n",
    "sns.boxplot(dataset['Engine Size(L)'])"
   ]
  },
  {
   "cell_type": "code",
   "execution_count": 14,
   "metadata": {},
   "outputs": [
    {
     "data": {
      "text/plain": [
       "<matplotlib.axes._subplots.AxesSubplot at 0x1ac541bbc08>"
      ]
     },
     "execution_count": 14,
     "metadata": {},
     "output_type": "execute_result"
    },
    {
     "data": {
      "image/png": "[encoded data removed]",
      "text/plain": [
       "<Figure size 432x288 with 1 Axes>"
      ]
     },
     "metadata": {
      "needs_background": "light"
     },
     "output_type": "display_data"
    }
   ],
   "source": [
    "sns.boxplot(dataset['Cylinders'])"
   ]
  },
  {
   "cell_type": "code",
   "execution_count": 15,
   "metadata": {},
   "outputs": [
    {
     "data": {
      "text/plain": [
       "<matplotlib.axes._subplots.AxesSubplot at 0x1ac5423bf48>"
      ]
     },
     "execution_count": 15,
     "metadata": {},
     "output_type": "execute_result"
    },
    {
     "data": {
      "image/png": "[encoded data removed]",
      "text/plain": [
       "<Figure size 432x288 with 1 Axes>"
      ]
     },
     "metadata": {
      "needs_background": "light"
     },
     "output_type": "display_data"
    }
   ],
   "source": [
    "sns.boxplot(dataset['Fuel Consumption City (L/100 km)'])"
   ]
  },
  {
   "cell_type": "code",
   "execution_count": 16,
   "metadata": {},
   "outputs": [
    {
     "data": {
      "text/plain": [
       "<matplotlib.axes._subplots.AxesSubplot at 0x1ac542ae348>"
      ]
     },
     "execution_count": 16,
     "metadata": {},
     "output_type": "execute_result"
    },
    {
     "data": {
      "image/png": "[encoded data removed]",
      "text/plain": [
       "<Figure size 432x288 with 1 Axes>"
      ]
     },
     "metadata": {
      "needs_background": "light"
     },
     "output_type": "display_data"
    }
   ],
   "source": [
    "sns.boxplot(dataset['Fuel Consumption Hwy (L/100 km)'])"
   ]
  },
  {
   "cell_type": "code",
   "execution_count": 17,
   "metadata": {},
   "outputs": [
    {
     "data": {
      "text/plain": [
       "<matplotlib.axes._subplots.AxesSubplot at 0x1ac543187c8>"
      ]
     },
     "execution_count": 17,
     "metadata": {},
     "output_type": "execute_result"
    },
    {
     "data": {
      "image/png": "[encoded data removed]",
      "text/plain": [
       "<Figure size 432x288 with 1 Axes>"
      ]
     },
     "metadata": {
      "needs_background": "light"
     },
     "output_type": "display_data"
    }
   ],
   "source": [
    "sns.boxplot(dataset['Fuel Consumption Comb (L/100 km)'])"
   ]
  },
  {
   "cell_type": "code",
   "execution_count": 18,
   "metadata": {},
   "outputs": [
    {
     "data": {
      "text/plain": [
       "<matplotlib.axes._subplots.AxesSubplot at 0x1ac5437f748>"
      ]
     },
     "execution_count": 18,
     "metadata": {},
     "output_type": "execute_result"
    },
    {
     "data": {
      "image/png": "[encoded data removed]",
      "text/plain": [
       "<Figure size 432x288 with 1 Axes>"
      ]
     },
     "metadata": {
      "needs_background": "light"
     },
     "output_type": "display_data"
    }
   ],
   "source": [
    "sns.boxplot(dataset['Fuel Consumption Comb (mpg)'])"
   ]
  },
  {
   "cell_type": "code",
   "execution_count": 19,
   "metadata": {},
   "outputs": [
    {
     "data": {
      "text/plain": [
       "<matplotlib.axes._subplots.AxesSubplot at 0x1ac543e88c8>"
      ]
     },
     "execution_count": 19,
     "metadata": {},
     "output_type": "execute_result"
    },
    {
     "data": {
      "image/png": "[encoded data removed]",
      "text/plain": [
       "<Figure size 432x288 with 1 Axes>"
      ]
     },
     "metadata": {
      "needs_background": "light"
     },
     "output_type": "display_data"
    }
   ],
   "source": [
    "sns.boxplot(dataset['CO2 Emissions(g/km)'])"
   ]
  },
  {
   "cell_type": "markdown",
   "metadata": {},
   "source": [
    "# TO CALCULATE IQR VALUE"
   ]
  },
  {
   "cell_type": "code",
   "execution_count": 20,
   "metadata": {},
   "outputs": [
    {
     "data": {
      "text/plain": [
       "Engine Size(L)                        2.0\n",
       "Cylinders                             4.0\n",
       "Fuel Consumption City (L/100 km)     10.1\n",
       "Fuel Consumption Hwy (L/100 km)       7.5\n",
       "Fuel Consumption Comb (L/100 km)      8.9\n",
       "Fuel Consumption Comb (mpg)          22.0\n",
       "CO2 Emissions(g/km)                 208.0\n",
       "Name: 0.25, dtype: float64"
      ]
     },
     "execution_count": 20,
     "metadata": {},
     "output_type": "execute_result"
    }
   ],
   "source": [
    "Q1=dataset.quantile(0.25)\n",
    "Q1"
   ]
  },
  {
   "cell_type": "code",
   "execution_count": 21,
   "metadata": {},
   "outputs": [
    {
     "data": {
      "text/plain": [
       "Engine Size(L)                        3.7\n",
       "Cylinders                             6.0\n",
       "Fuel Consumption City (L/100 km)     14.6\n",
       "Fuel Consumption Hwy (L/100 km)      10.2\n",
       "Fuel Consumption Comb (L/100 km)     12.6\n",
       "Fuel Consumption Comb (mpg)          32.0\n",
       "CO2 Emissions(g/km)                 288.0\n",
       "Name: 0.75, dtype: float64"
      ]
     },
     "execution_count": 21,
     "metadata": {},
     "output_type": "execute_result"
    }
   ],
   "source": [
    "Q3=dataset.quantile(0.75)\n",
    "Q3"
   ]
  },
  {
   "cell_type": "code",
   "execution_count": 22,
   "metadata": {},
   "outputs": [
    {
     "data": {
      "text/plain": [
       "Engine Size(L)                       1.7\n",
       "Cylinders                            2.0\n",
       "Fuel Consumption City (L/100 km)     4.5\n",
       "Fuel Consumption Hwy (L/100 km)      2.7\n",
       "Fuel Consumption Comb (L/100 km)     3.7\n",
       "Fuel Consumption Comb (mpg)         10.0\n",
       "CO2 Emissions(g/km)                 80.0\n",
       "dtype: float64"
      ]
     },
     "execution_count": 22,
     "metadata": {},
     "output_type": "execute_result"
    }
   ],
   "source": [
    "IQR= Q3-Q1\n",
    "IQR"
   ]
  },
  {
   "cell_type": "markdown",
   "metadata": {},
   "source": [
    "# REMOVING THE OUTLIERS"
   ]
  },
  {
   "cell_type": "code",
   "execution_count": 23,
   "metadata": {},
   "outputs": [
    {
     "data": {
      "text/html": [
       "<div>\n",
       "<style scoped>\n",
       "    .dataframe tbody tr th:only-of-type {\n",
       "        vertical-align: middle;\n",
       "    }\n",
       "\n",
       "    .dataframe tbody tr th {\n",
       "        vertical-align: top;\n",
       "    }\n",
       "\n",
       "    .dataframe thead th {\n",
       "        text-align: right;\n",
       "    }\n",
       "</style>\n",
       "<table border=\"1\" class=\"dataframe\">\n",
       "  <thead>\n",
       "    <tr style=\"text-align: right;\">\n",
       "      <th></th>\n",
       "      <th>Make</th>\n",
       "      <th>Model</th>\n",
       "      <th>Vehicle Class</th>\n",
       "      <th>Engine Size(L)</th>\n",
       "      <th>Cylinders</th>\n",
       "      <th>Transmission</th>\n",
       "      <th>Fuel Type</th>\n",
       "      <th>Fuel Consumption City (L/100 km)</th>\n",
       "      <th>Fuel Consumption Hwy (L/100 km)</th>\n",
       "      <th>Fuel Consumption Comb (L/100 km)</th>\n",
       "      <th>Fuel Consumption Comb (mpg)</th>\n",
       "      <th>CO2 Emissions(g/km)</th>\n",
       "    </tr>\n",
       "  </thead>\n",
       "  <tbody>\n",
       "    <tr>\n",
       "      <td>0</td>\n",
       "      <td>ACURA</td>\n",
       "      <td>ILX</td>\n",
       "      <td>COMPACT</td>\n",
       "      <td>2.0</td>\n",
       "      <td>4</td>\n",
       "      <td>AS5</td>\n",
       "      <td>Z</td>\n",
       "      <td>9.9</td>\n",
       "      <td>6.7</td>\n",
       "      <td>8.5</td>\n",
       "      <td>33</td>\n",
       "      <td>196</td>\n",
       "    </tr>\n",
       "    <tr>\n",
       "      <td>1</td>\n",
       "      <td>ACURA</td>\n",
       "      <td>ILX</td>\n",
       "      <td>COMPACT</td>\n",
       "      <td>2.4</td>\n",
       "      <td>4</td>\n",
       "      <td>M6</td>\n",
       "      <td>Z</td>\n",
       "      <td>11.2</td>\n",
       "      <td>7.7</td>\n",
       "      <td>9.6</td>\n",
       "      <td>29</td>\n",
       "      <td>221</td>\n",
       "    </tr>\n",
       "    <tr>\n",
       "      <td>3</td>\n",
       "      <td>ACURA</td>\n",
       "      <td>MDX 4WD</td>\n",
       "      <td>SUV - SMALL</td>\n",
       "      <td>3.5</td>\n",
       "      <td>6</td>\n",
       "      <td>AS6</td>\n",
       "      <td>Z</td>\n",
       "      <td>12.7</td>\n",
       "      <td>9.1</td>\n",
       "      <td>11.1</td>\n",
       "      <td>25</td>\n",
       "      <td>255</td>\n",
       "    </tr>\n",
       "    <tr>\n",
       "      <td>4</td>\n",
       "      <td>ACURA</td>\n",
       "      <td>RDX AWD</td>\n",
       "      <td>SUV - SMALL</td>\n",
       "      <td>3.5</td>\n",
       "      <td>6</td>\n",
       "      <td>AS6</td>\n",
       "      <td>Z</td>\n",
       "      <td>12.1</td>\n",
       "      <td>8.7</td>\n",
       "      <td>10.6</td>\n",
       "      <td>27</td>\n",
       "      <td>244</td>\n",
       "    </tr>\n",
       "    <tr>\n",
       "      <td>5</td>\n",
       "      <td>ACURA</td>\n",
       "      <td>RLX</td>\n",
       "      <td>MID-SIZE</td>\n",
       "      <td>3.5</td>\n",
       "      <td>6</td>\n",
       "      <td>AS6</td>\n",
       "      <td>Z</td>\n",
       "      <td>11.9</td>\n",
       "      <td>7.7</td>\n",
       "      <td>10.0</td>\n",
       "      <td>28</td>\n",
       "      <td>230</td>\n",
       "    </tr>\n",
       "    <tr>\n",
       "      <td>...</td>\n",
       "      <td>...</td>\n",
       "      <td>...</td>\n",
       "      <td>...</td>\n",
       "      <td>...</td>\n",
       "      <td>...</td>\n",
       "      <td>...</td>\n",
       "      <td>...</td>\n",
       "      <td>...</td>\n",
       "      <td>...</td>\n",
       "      <td>...</td>\n",
       "      <td>...</td>\n",
       "      <td>...</td>\n",
       "    </tr>\n",
       "    <tr>\n",
       "      <td>7380</td>\n",
       "      <td>VOLVO</td>\n",
       "      <td>XC40 T5 AWD</td>\n",
       "      <td>SUV - SMALL</td>\n",
       "      <td>2.0</td>\n",
       "      <td>4</td>\n",
       "      <td>AS8</td>\n",
       "      <td>Z</td>\n",
       "      <td>10.7</td>\n",
       "      <td>7.7</td>\n",
       "      <td>9.4</td>\n",
       "      <td>30</td>\n",
       "      <td>219</td>\n",
       "    </tr>\n",
       "    <tr>\n",
       "      <td>7381</td>\n",
       "      <td>VOLVO</td>\n",
       "      <td>XC60 T5 AWD</td>\n",
       "      <td>SUV - SMALL</td>\n",
       "      <td>2.0</td>\n",
       "      <td>4</td>\n",
       "      <td>AS8</td>\n",
       "      <td>Z</td>\n",
       "      <td>11.2</td>\n",
       "      <td>8.3</td>\n",
       "      <td>9.9</td>\n",
       "      <td>29</td>\n",
       "      <td>232</td>\n",
       "    </tr>\n",
       "    <tr>\n",
       "      <td>7382</td>\n",
       "      <td>VOLVO</td>\n",
       "      <td>XC60 T6 AWD</td>\n",
       "      <td>SUV - SMALL</td>\n",
       "      <td>2.0</td>\n",
       "      <td>4</td>\n",
       "      <td>AS8</td>\n",
       "      <td>Z</td>\n",
       "      <td>11.7</td>\n",
       "      <td>8.6</td>\n",
       "      <td>10.3</td>\n",
       "      <td>27</td>\n",
       "      <td>240</td>\n",
       "    </tr>\n",
       "    <tr>\n",
       "      <td>7383</td>\n",
       "      <td>VOLVO</td>\n",
       "      <td>XC90 T5 AWD</td>\n",
       "      <td>SUV - STANDARD</td>\n",
       "      <td>2.0</td>\n",
       "      <td>4</td>\n",
       "      <td>AS8</td>\n",
       "      <td>Z</td>\n",
       "      <td>11.2</td>\n",
       "      <td>8.3</td>\n",
       "      <td>9.9</td>\n",
       "      <td>29</td>\n",
       "      <td>232</td>\n",
       "    </tr>\n",
       "    <tr>\n",
       "      <td>7384</td>\n",
       "      <td>VOLVO</td>\n",
       "      <td>XC90 T6 AWD</td>\n",
       "      <td>SUV - STANDARD</td>\n",
       "      <td>2.0</td>\n",
       "      <td>4</td>\n",
       "      <td>AS8</td>\n",
       "      <td>Z</td>\n",
       "      <td>12.2</td>\n",
       "      <td>8.7</td>\n",
       "      <td>10.7</td>\n",
       "      <td>26</td>\n",
       "      <td>248</td>\n",
       "    </tr>\n",
       "  </tbody>\n",
       "</table>\n",
       "<p>4933 rows × 12 columns</p>\n",
       "</div>"
      ],
      "text/plain": [
       "       Make        Model   Vehicle Class  Engine Size(L)  Cylinders  \\\n",
       "0     ACURA          ILX         COMPACT             2.0          4   \n",
       "1     ACURA          ILX         COMPACT             2.4          4   \n",
       "3     ACURA      MDX 4WD     SUV - SMALL             3.5          6   \n",
       "4     ACURA      RDX AWD     SUV - SMALL             3.5          6   \n",
       "5     ACURA          RLX        MID-SIZE             3.5          6   \n",
       "...     ...          ...             ...             ...        ...   \n",
       "7380  VOLVO  XC40 T5 AWD     SUV - SMALL             2.0          4   \n",
       "7381  VOLVO  XC60 T5 AWD     SUV - SMALL             2.0          4   \n",
       "7382  VOLVO  XC60 T6 AWD     SUV - SMALL             2.0          4   \n",
       "7383  VOLVO  XC90 T5 AWD  SUV - STANDARD             2.0          4   \n",
       "7384  VOLVO  XC90 T6 AWD  SUV - STANDARD             2.0          4   \n",
       "\n",
       "     Transmission Fuel Type  Fuel Consumption City (L/100 km)  \\\n",
       "0             AS5         Z                               9.9   \n",
       "1              M6         Z                              11.2   \n",
       "3             AS6         Z                              12.7   \n",
       "4             AS6         Z                              12.1   \n",
       "5             AS6         Z                              11.9   \n",
       "...           ...       ...                               ...   \n",
       "7380          AS8         Z                              10.7   \n",
       "7381          AS8         Z                              11.2   \n",
       "7382          AS8         Z                              11.7   \n",
       "7383          AS8         Z                              11.2   \n",
       "7384          AS8         Z                              12.2   \n",
       "\n",
       "      Fuel Consumption Hwy (L/100 km)  Fuel Consumption Comb (L/100 km)  \\\n",
       "0                                 6.7                               8.5   \n",
       "1                                 7.7                               9.6   \n",
       "3                                 9.1                              11.1   \n",
       "4                                 8.7                              10.6   \n",
       "5                                 7.7                              10.0   \n",
       "...                               ...                               ...   \n",
       "7380                              7.7                               9.4   \n",
       "7381                              8.3                               9.9   \n",
       "7382                              8.6                              10.3   \n",
       "7383                              8.3                               9.9   \n",
       "7384                              8.7                              10.7   \n",
       "\n",
       "      Fuel Consumption Comb (mpg)  CO2 Emissions(g/km)  \n",
       "0                              33                  196  \n",
       "1                              29                  221  \n",
       "3                              25                  255  \n",
       "4                              27                  244  \n",
       "5                              28                  230  \n",
       "...                           ...                  ...  \n",
       "7380                           30                  219  \n",
       "7381                           29                  232  \n",
       "7382                           27                  240  \n",
       "7383                           29                  232  \n",
       "7384                           26                  248  \n",
       "\n",
       "[4933 rows x 12 columns]"
      ]
     },
     "execution_count": 23,
     "metadata": {},
     "output_type": "execute_result"
    }
   ],
   "source": [
    "dataset = dataset[~((dataset<(Q1-1.5*IQR))| (dataset>(Q1+1.5*IQR))).any(axis=1)]\n",
    "dataset"
   ]
  },
  {
   "cell_type": "markdown",
   "metadata": {},
   "source": [
    "# TO PLOT THE HEATMAP"
   ]
  },
  {
   "cell_type": "code",
   "execution_count": 24,
   "metadata": {},
   "outputs": [
    {
     "data": {
      "text/plain": [
       "<matplotlib.axes._subplots.AxesSubplot at 0x1ac544b3ec8>"
      ]
     },
     "execution_count": 24,
     "metadata": {},
     "output_type": "execute_result"
    },
    {
     "data": {
      "image/png": "[encoded data removed]",
      "text/plain": [
       "<Figure size 432x288 with 2 Axes>"
      ]
     },
     "metadata": {
      "needs_background": "light"
     },
     "output_type": "display_data"
    }
   ],
   "source": [
    "import seaborn as sns\n",
    "sns.heatmap(dataset.corr(),annot=True)"
   ]
  },
  {
   "cell_type": "markdown",
   "metadata": {},
   "source": [
    "# SEPARATING OF INDEPENDENT AND DEPENDENT VARIABLES"
   ]
  },
  {
   "cell_type": "code",
   "execution_count": 25,
   "metadata": {},
   "outputs": [
    {
     "data": {
      "text/plain": [
       "array([['ACURA', 'ILX', 'COMPACT', ..., 6.7, 8.5, 33],\n",
       "       ['ACURA', 'ILX', 'COMPACT', ..., 7.7, 9.6, 29],\n",
       "       ['ACURA', 'MDX 4WD', 'SUV - SMALL', ..., 9.1, 11.1, 25],\n",
       "       ...,\n",
       "       ['VOLVO', 'XC60 T6 AWD', 'SUV - SMALL', ..., 8.6, 10.3, 27],\n",
       "       ['VOLVO', 'XC90 T5 AWD', 'SUV - STANDARD', ..., 8.3, 9.9, 29],\n",
       "       ['VOLVO', 'XC90 T6 AWD', 'SUV - STANDARD', ..., 8.7, 10.7, 26]],\n",
       "      dtype=object)"
      ]
     },
     "execution_count": 25,
     "metadata": {},
     "output_type": "execute_result"
    }
   ],
   "source": [
    "x = dataset.iloc[:,0:11].values\n",
    "x"
   ]
  },
  {
   "cell_type": "code",
   "execution_count": 26,
   "metadata": {},
   "outputs": [
    {
     "data": {
      "text/plain": [
       "array([196, 221, 255, ..., 240, 232, 248], dtype=int64)"
      ]
     },
     "execution_count": 26,
     "metadata": {},
     "output_type": "execute_result"
    }
   ],
   "source": [
    "y=dataset.iloc[:,-1].values\n",
    "y"
   ]
  },
  {
   "cell_type": "markdown",
   "metadata": {},
   "source": [
    "# ONE HOT ENCODING"
   ]
  },
  {
   "cell_type": "code",
   "execution_count": 27,
   "metadata": {},
   "outputs": [],
   "source": [
    "from sklearn.compose import ColumnTransformer\n",
    "from sklearn.preprocessing import OneHotEncoder"
   ]
  },
  {
   "cell_type": "code",
   "execution_count": 28,
   "metadata": {},
   "outputs": [
    {
     "data": {
      "text/plain": [
       "array(['ACURA', 'ILX', 'COMPACT', 2.0, 4, 'AS5', 'Z', 9.9, 6.7, 8.5, 33],\n",
       "      dtype=object)"
      ]
     },
     "execution_count": 28,
     "metadata": {},
     "output_type": "execute_result"
    }
   ],
   "source": [
    "x[0]"
   ]
  },
  {
   "cell_type": "code",
   "execution_count": 29,
   "metadata": {},
   "outputs": [
    {
     "data": {
      "text/plain": [
       "array([[1.0, 0.0, 0.0, ..., 6.7, 8.5, 33],\n",
       "       [1.0, 0.0, 0.0, ..., 7.7, 9.6, 29],\n",
       "       [0.0, 0.0, 0.0, ..., 9.1, 11.1, 25],\n",
       "       ...,\n",
       "       [0.0, 0.0, 0.0, ..., 8.6, 10.3, 27],\n",
       "       [0.0, 0.0, 0.0, ..., 8.3, 9.9, 29],\n",
       "       [0.0, 0.0, 0.0, ..., 8.7, 10.7, 26]], dtype=object)"
      ]
     },
     "execution_count": 29,
     "metadata": {},
     "output_type": "execute_result"
    }
   ],
   "source": [
    "ct1 = ColumnTransformer([(\"On\", OneHotEncoder(),[2])], remainder = 'passthrough')\n",
    "x = ct1.fit_transform(x)\n",
    "x"
   ]
  },
  {
   "cell_type": "code",
   "execution_count": 30,
   "metadata": {},
   "outputs": [
    {
     "data": {
      "text/plain": [
       "array([1.0, 0.0, 0.0, 0.0, 0.0, 0.0, 0.0, 0.0, 0.0, 0.0, 0.0, 0.0, 0.0,\n",
       "       0.0, 'ACURA', 'ILX', 2.0, 4, 'AS5', 'Z', 9.9, 6.7, 8.5, 33],\n",
       "      dtype=object)"
      ]
     },
     "execution_count": 30,
     "metadata": {},
     "output_type": "execute_result"
    }
   ],
   "source": [
    "x[0]"
   ]
  },
  {
   "cell_type": "code",
   "execution_count": 31,
   "metadata": {},
   "outputs": [
    {
     "data": {
      "text/plain": [
       "array([[0.0, 0.0, 0.0, ..., 6.7, 8.5, 33],\n",
       "       [0.0, 0.0, 0.0, ..., 7.7, 9.6, 29],\n",
       "       [0.0, 0.0, 0.0, ..., 9.1, 11.1, 25],\n",
       "       ...,\n",
       "       [0.0, 0.0, 0.0, ..., 8.6, 10.3, 27],\n",
       "       [0.0, 0.0, 0.0, ..., 8.3, 9.9, 29],\n",
       "       [0.0, 0.0, 0.0, ..., 8.7, 10.7, 26]], dtype=object)"
      ]
     },
     "execution_count": 31,
     "metadata": {},
     "output_type": "execute_result"
    }
   ],
   "source": [
    "#dummy variables\n",
    "x=x[:,1:]\n",
    "x"
   ]
  },
  {
   "cell_type": "code",
   "execution_count": 32,
   "metadata": {},
   "outputs": [
    {
     "data": {
      "text/plain": [
       "['transform1']"
      ]
     },
     "execution_count": 32,
     "metadata": {},
     "output_type": "execute_result"
    }
   ],
   "source": [
    "import joblib\n",
    "joblib.dump(ct1,'transform1')"
   ]
  },
  {
   "cell_type": "code",
   "execution_count": 33,
   "metadata": {},
   "outputs": [
    {
     "data": {
      "text/plain": [
       "array([0.0, 0.0, 0.0, 0.0, 0.0, 0.0, 0.0, 0.0, 0.0, 0.0, 0.0, 0.0, 0.0,\n",
       "       'ACURA', 'ILX', 2.0, 4, 'AS5', 'Z', 9.9, 6.7, 8.5, 33],\n",
       "      dtype=object)"
      ]
     },
     "execution_count": 33,
     "metadata": {},
     "output_type": "execute_result"
    }
   ],
   "source": [
    "x[0]"
   ]
  },
  {
   "cell_type": "code",
   "execution_count": 34,
   "metadata": {},
   "outputs": [
    {
     "data": {
      "text/plain": [
       "array([[0.0, 0.0, 0.0, ..., 6.7, 8.5, 33],\n",
       "       [0.0, 0.0, 0.0, ..., 7.7, 9.6, 29],\n",
       "       [0.0, 0.0, 0.0, ..., 9.1, 11.1, 25],\n",
       "       ...,\n",
       "       [0.0, 0.0, 0.0, ..., 8.6, 10.3, 27],\n",
       "       [0.0, 0.0, 0.0, ..., 8.3, 9.9, 29],\n",
       "       [0.0, 0.0, 0.0, ..., 8.7, 10.7, 26]], dtype=object)"
      ]
     },
     "execution_count": 34,
     "metadata": {},
     "output_type": "execute_result"
    }
   ],
   "source": [
    "ct2=ColumnTransformer([(\"on\",OneHotEncoder(),[17])],remainder=\"passthrough\")\n",
    "x=ct2.fit_transform(x)\n",
    "x"
   ]
  },
  {
   "cell_type": "code",
   "execution_count": 35,
   "metadata": {},
   "outputs": [
    {
     "data": {
      "text/plain": [
       "array([0.0, 0.0, 0.0, 0.0, 0.0, 0.0, 0.0, 0.0, 0.0, 0.0, 0.0, 0.0, 1.0,\n",
       "       0.0, 0.0, 0.0, 0.0, 0.0, 0.0, 0.0, 0.0, 0.0, 0.0, 0.0, 0.0, 0.0,\n",
       "       0.0, 0.0, 0.0, 0.0, 0.0, 0.0, 0.0, 0.0, 0.0, 0.0, 0.0, 0.0,\n",
       "       'ACURA', 'ILX', 2.0, 4, 'Z', 9.9, 6.7, 8.5, 33], dtype=object)"
      ]
     },
     "execution_count": 35,
     "metadata": {},
     "output_type": "execute_result"
    }
   ],
   "source": [
    "x=x[:,1:]\n",
    "x[0]"
   ]
  },
  {
   "cell_type": "code",
   "execution_count": 36,
   "metadata": {},
   "outputs": [
    {
     "data": {
      "text/plain": [
       "['transform2']"
      ]
     },
     "execution_count": 36,
     "metadata": {},
     "output_type": "execute_result"
    }
   ],
   "source": [
    "import joblib\n",
    "joblib.dump(ct2,'transform2')"
   ]
  },
  {
   "cell_type": "code",
   "execution_count": 37,
   "metadata": {},
   "outputs": [
    {
     "data": {
      "text/plain": [
       "array([[0.0, 0.0, 0.0, ..., 6.7, 8.5, 33],\n",
       "       [0.0, 0.0, 0.0, ..., 7.7, 9.6, 29],\n",
       "       [0.0, 0.0, 0.0, ..., 9.1, 11.1, 25],\n",
       "       ...,\n",
       "       [0.0, 0.0, 0.0, ..., 8.6, 10.3, 27],\n",
       "       [0.0, 0.0, 0.0, ..., 8.3, 9.9, 29],\n",
       "       [0.0, 0.0, 0.0, ..., 8.7, 10.7, 26]], dtype=object)"
      ]
     },
     "execution_count": 37,
     "metadata": {},
     "output_type": "execute_result"
    }
   ],
   "source": [
    "ct3=ColumnTransformer([(\"on\",OneHotEncoder(),[42])],remainder=\"passthrough\")\n",
    "x=ct3.fit_transform(x)\n",
    "x"
   ]
  },
  {
   "cell_type": "code",
   "execution_count": 38,
   "metadata": {
    "scrolled": true
   },
   "outputs": [
    {
     "data": {
      "text/plain": [
       "array([0.0, 0.0, 0.0, 1.0, 0.0, 0.0, 0.0, 0.0, 0.0, 0.0, 0.0, 0.0, 0.0,\n",
       "       0.0, 0.0, 0.0, 1.0, 0.0, 0.0, 0.0, 0.0, 0.0, 0.0, 0.0, 0.0, 0.0,\n",
       "       0.0, 0.0, 0.0, 0.0, 0.0, 0.0, 0.0, 0.0, 0.0, 0.0, 0.0, 0.0, 0.0,\n",
       "       0.0, 0.0, 0.0, 'ACURA', 'ILX', 2.0, 4, 9.9, 6.7, 8.5, 33],\n",
       "      dtype=object)"
      ]
     },
     "execution_count": 38,
     "metadata": {},
     "output_type": "execute_result"
    }
   ],
   "source": [
    "x=x[:,1:]\n",
    "x[0]"
   ]
  },
  {
   "cell_type": "code",
   "execution_count": 39,
   "metadata": {},
   "outputs": [
    {
     "data": {
      "text/plain": [
       "['transform3']"
      ]
     },
     "execution_count": 39,
     "metadata": {},
     "output_type": "execute_result"
    }
   ],
   "source": [
    "import joblib\n",
    "joblib.dump(ct3,'transform3')"
   ]
  },
  {
   "cell_type": "code",
   "execution_count": 40,
   "metadata": {},
   "outputs": [
    {
     "data": {
      "text/plain": [
       "array([[1.0, 0.0, 0.0, ..., 6.7, 8.5, 33],\n",
       "       [1.0, 0.0, 0.0, ..., 7.7, 9.6, 29],\n",
       "       [1.0, 0.0, 0.0, ..., 9.1, 11.1, 25],\n",
       "       ...,\n",
       "       [0.0, 0.0, 0.0, ..., 8.6, 10.3, 27],\n",
       "       [0.0, 0.0, 0.0, ..., 8.3, 9.9, 29],\n",
       "       [0.0, 0.0, 0.0, ..., 8.7, 10.7, 26]], dtype=object)"
      ]
     },
     "execution_count": 40,
     "metadata": {},
     "output_type": "execute_result"
    }
   ],
   "source": [
    "ct4=ColumnTransformer([(\"on\",OneHotEncoder(),[42])],remainder=\"passthrough\")\n",
    "x=ct4.fit_transform(x)\n",
    "x"
   ]
  },
  {
   "cell_type": "code",
   "execution_count": 41,
   "metadata": {
    "scrolled": false
   },
   "outputs": [
    {
     "data": {
      "text/plain": [
       "array([0.0, 0.0, 0.0, 0.0, 0.0, 0.0, 0.0, 0.0, 0.0, 0.0, 0.0, 0.0, 0.0,\n",
       "       0.0, 0.0, 0.0, 0.0, 0.0, 0.0, 0.0, 0.0, 0.0, 0.0, 0.0, 0.0, 0.0,\n",
       "       0.0, 0.0, 0.0, 0.0, 0.0, 0.0, 0.0, 0.0, 0.0, 0.0, 0.0, 1.0, 0.0,\n",
       "       0.0, 0.0, 0.0, 0.0, 0.0, 0.0, 0.0, 0.0, 0.0, 0.0, 0.0, 1.0, 0.0,\n",
       "       0.0, 0.0, 0.0, 0.0, 0.0, 0.0, 0.0, 0.0, 0.0, 0.0, 0.0, 0.0, 0.0,\n",
       "       0.0, 0.0, 0.0, 0.0, 0.0, 0.0, 0.0, 0.0, 0.0, 0.0, 0.0, 'ILX', 2.0,\n",
       "       4, 9.9, 6.7, 8.5, 33], dtype=object)"
      ]
     },
     "execution_count": 41,
     "metadata": {},
     "output_type": "execute_result"
    }
   ],
   "source": [
    "x=x[:,1:]\n",
    "x[0]"
   ]
  },
  {
   "cell_type": "code",
   "execution_count": 42,
   "metadata": {},
   "outputs": [
    {
     "data": {
      "text/plain": [
       "['transform4']"
      ]
     },
     "execution_count": 42,
     "metadata": {},
     "output_type": "execute_result"
    }
   ],
   "source": [
    "import joblib\n",
    "joblib.dump(ct4,'transform4')"
   ]
  },
  {
   "cell_type": "code",
   "execution_count": 43,
   "metadata": {},
   "outputs": [
    {
     "data": {
      "text/plain": [
       "<4933x1511 sparse matrix of type '<class 'numpy.float64'>'\n",
       "\twith 53354 stored elements in Compressed Sparse Row format>"
      ]
     },
     "execution_count": 43,
     "metadata": {},
     "output_type": "execute_result"
    }
   ],
   "source": [
    "ct5=ColumnTransformer([(\"on\",OneHotEncoder(),[76])],remainder=\"passthrough\")\n",
    "x=ct5.fit_transform(x)\n",
    "x"
   ]
  },
  {
   "cell_type": "code",
   "execution_count": 44,
   "metadata": {},
   "outputs": [
    {
     "data": {
      "text/plain": [
       "<1x1510 sparse matrix of type '<class 'numpy.float64'>'\n",
       "\twith 9 stored elements in Compressed Sparse Row format>"
      ]
     },
     "execution_count": 44,
     "metadata": {},
     "output_type": "execute_result"
    }
   ],
   "source": [
    "x=x[:,1:]\n",
    "x[0]"
   ]
  },
  {
   "cell_type": "code",
   "execution_count": 45,
   "metadata": {},
   "outputs": [
    {
     "data": {
      "text/plain": [
       "['transform5']"
      ]
     },
     "execution_count": 45,
     "metadata": {},
     "output_type": "execute_result"
    }
   ],
   "source": [
    "import joblib\n",
    "joblib.dump(ct5,'transform5')"
   ]
  },
  {
   "cell_type": "code",
   "execution_count": 46,
   "metadata": {},
   "outputs": [
    {
     "data": {
      "text/plain": [
       "(4933, 1510)"
      ]
     },
     "execution_count": 46,
     "metadata": {},
     "output_type": "execute_result"
    }
   ],
   "source": [
    "x.shape"
   ]
  },
  {
   "cell_type": "markdown",
   "metadata": {},
   "source": [
    "# TRAINING AND TESTING THE MODEL"
   ]
  },
  {
   "cell_type": "code",
   "execution_count": 47,
   "metadata": {},
   "outputs": [],
   "source": [
    "from sklearn.model_selection import train_test_split\n",
    "x_train,x_test,y_train,y_test=train_test_split(x,y,test_size=0.2,random_state=0)"
   ]
  },
  {
   "cell_type": "code",
   "execution_count": 48,
   "metadata": {},
   "outputs": [
    {
     "data": {
      "text/plain": [
       "(3946, 1510)"
      ]
     },
     "execution_count": 48,
     "metadata": {},
     "output_type": "execute_result"
    }
   ],
   "source": [
    "x_train.shape"
   ]
  },
  {
   "cell_type": "code",
   "execution_count": 49,
   "metadata": {},
   "outputs": [
    {
     "data": {
      "text/plain": [
       "(987,)"
      ]
     },
     "execution_count": 49,
     "metadata": {},
     "output_type": "execute_result"
    }
   ],
   "source": [
    "y_test.shape"
   ]
  },
  {
   "cell_type": "code",
   "execution_count": 50,
   "metadata": {},
   "outputs": [
    {
     "data": {
      "text/plain": [
       "(3946,)"
      ]
     },
     "execution_count": 50,
     "metadata": {},
     "output_type": "execute_result"
    }
   ],
   "source": [
    "y_train.shape"
   ]
  },
  {
   "cell_type": "code",
   "execution_count": 51,
   "metadata": {},
   "outputs": [
    {
     "data": {
      "text/plain": [
       "(987, 1510)"
      ]
     },
     "execution_count": 51,
     "metadata": {},
     "output_type": "execute_result"
    }
   ],
   "source": [
    "x_test.shape"
   ]
  },
  {
   "cell_type": "markdown",
   "metadata": {},
   "source": [
    "# BUILDING THE MODEL USING RANDOM FOREST REGRESSION"
   ]
  },
  {
   "cell_type": "code",
   "execution_count": 52,
   "metadata": {},
   "outputs": [],
   "source": [
    "from sklearn.ensemble import RandomForestRegressor"
   ]
  },
  {
   "cell_type": "code",
   "execution_count": 53,
   "metadata": {},
   "outputs": [],
   "source": [
    "rf=RandomForestRegressor(n_estimators=100,criterion='mse',random_state=0)"
   ]
  },
  {
   "cell_type": "code",
   "execution_count": 54,
   "metadata": {},
   "outputs": [
    {
     "data": {
      "text/plain": [
       "RandomForestRegressor(bootstrap=True, criterion='mse', max_depth=None,\n",
       "                      max_features='auto', max_leaf_nodes=None,\n",
       "                      min_impurity_decrease=0.0, min_impurity_split=None,\n",
       "                      min_samples_leaf=1, min_samples_split=2,\n",
       "                      min_weight_fraction_leaf=0.0, n_estimators=100,\n",
       "                      n_jobs=None, oob_score=False, random_state=0, verbose=0,\n",
       "                      warm_start=False)"
      ]
     },
     "execution_count": 54,
     "metadata": {},
     "output_type": "execute_result"
    }
   ],
   "source": [
    "rf.fit(x_train,y_train)"
   ]
  },
  {
   "cell_type": "code",
   "execution_count": 55,
   "metadata": {},
   "outputs": [
    {
     "data": {
      "text/plain": [
       "['randomforestregressor.save']"
      ]
     },
     "execution_count": 55,
     "metadata": {},
     "output_type": "execute_result"
    }
   ],
   "source": [
    "joblib.dump(rf,\"randomforestregressor.save\")"
   ]
  },
  {
   "cell_type": "code",
   "execution_count": 56,
   "metadata": {},
   "outputs": [
    {
     "data": {
      "text/plain": [
       "array([291.58      , 219.89666667, 233.67      , 252.145     ,\n",
       "       322.86      , 210.89      , 276.99      , 276.38494048,\n",
       "       258.78      , 254.        , 202.735     , 291.524     ,\n",
       "       226.51333333, 271.09      , 216.28866667, 270.57      ,\n",
       "       247.71      , 234.23      , 254.28583333, 226.85      ,\n",
       "       184.94      , 223.7825    , 270.93      , 242.18      ,\n",
       "       178.005     , 239.56433333, 239.94      , 242.13666667,\n",
       "       245.27      , 213.9695    , 237.67      , 200.393     ,\n",
       "       210.07      , 196.92666667, 248.42333333, 201.78      ,\n",
       "       300.266     , 216.06666667, 264.97      , 252.69071429,\n",
       "       221.40666667, 267.07233333, 226.84166667, 238.76      ,\n",
       "       290.71666667, 252.145     , 263.842     , 238.21      ,\n",
       "       203.89      , 285.47      , 298.615     , 209.        ,\n",
       "       231.4505    , 203.59483333, 224.28416667, 290.32      ,\n",
       "       244.31      , 286.35      , 248.68      , 201.11      ,\n",
       "       251.944     , 239.631     , 245.41      , 302.        ,\n",
       "       273.65      , 314.75      , 175.32      , 208.87066667,\n",
       "       297.38333333, 257.34166667, 204.39      , 251.511     ,\n",
       "       280.49      , 209.        , 196.59      , 258.67583333,\n",
       "       263.195     , 209.49333333, 258.47533333, 231.24      ,\n",
       "       195.56257143, 269.34      , 198.21666667, 242.97      ,\n",
       "       252.31666667, 184.83666667, 198.97      , 192.569     ,\n",
       "       176.87      , 254.        , 194.5225    , 239.15952381,\n",
       "       257.38166667, 228.549     , 298.79804762, 184.91033333,\n",
       "       266.94933333, 219.33      , 208.56333333, 273.52833333,\n",
       "       217.73      , 276.11166667, 202.5775    , 183.86714286,\n",
       "       248.34333333, 213.28      , 237.38666667, 198.79      ,\n",
       "       288.27      , 231.17      , 191.196     , 278.10666667,\n",
       "       218.799     , 324.9       , 210.376     , 233.20666667,\n",
       "       196.30666667, 293.36333333, 250.68      , 251.78266667,\n",
       "       192.06666667, 219.415     , 186.        , 256.38      ,\n",
       "       231.564     , 277.38202381, 222.47666667, 271.36314286,\n",
       "       277.7725    , 281.63      , 186.15      , 242.645     ,\n",
       "       229.61666667, 198.28      , 253.25166667, 261.95      ,\n",
       "       267.79688889, 205.71      , 227.9375    , 292.66      ,\n",
       "       192.65      , 215.685     , 204.79      , 187.14      ,\n",
       "       239.17819048, 192.74      , 209.13      , 188.966     ,\n",
       "       193.84583333, 200.325     , 260.12      , 221.455     ,\n",
       "       192.95083333, 296.43916667, 215.003     , 239.79533333,\n",
       "       207.04238095, 240.20666667, 295.91      , 245.79      ,\n",
       "       200.03      , 271.53      , 260.17      , 265.0235    ,\n",
       "       270.93      , 249.6       , 227.18      , 255.81      ,\n",
       "       253.1       , 226.14      , 259.22      , 234.65      ,\n",
       "       256.525     , 208.044     , 250.61      , 179.37      ,\n",
       "       266.90266667, 271.092     , 206.84      , 246.        ,\n",
       "       190.36      , 257.105     , 253.055     , 218.50333333,\n",
       "       188.275     , 254.385     , 258.01      , 264.59833333,\n",
       "       266.65      , 317.40085714, 191.975     , 275.5       ,\n",
       "       177.60714286, 231.24      , 210.15      , 230.48      ,\n",
       "       191.05      , 232.06      , 277.19      , 233.1       ,\n",
       "       212.15      , 211.81      , 211.5075    , 176.78166667,\n",
       "       292.8687619 , 224.27083333, 197.79033333, 238.25      ,\n",
       "       179.18      , 231.81166667, 255.93      , 253.42416667,\n",
       "       228.83633333, 243.1525    , 282.97      , 247.04928571,\n",
       "       225.4225    , 220.05      , 279.94      , 196.2       ,\n",
       "       297.8       , 233.74433333, 260.42      , 225.525     ,\n",
       "       285.91      , 201.79      , 266.81      , 229.631     ,\n",
       "       235.74166667, 233.70083333, 185.9       , 235.74166667,\n",
       "       237.91      , 257.23180952, 241.46083333, 265.6175    ,\n",
       "       280.17666667, 246.769     , 276.05630952, 177.53      ,\n",
       "       180.43      , 193.238     , 251.03      , 248.27      ,\n",
       "       198.11166667, 192.73      , 221.12      , 185.69066667,\n",
       "       186.31916667, 194.174     , 290.71666667, 233.34933333,\n",
       "       192.73      , 219.89666667, 253.83      , 230.9       ,\n",
       "       209.60333333, 225.64      , 248.32333333, 275.9045    ,\n",
       "       285.59      , 212.97      , 231.215     , 271.645     ,\n",
       "       229.76      , 251.55933333, 258.        , 264.97      ,\n",
       "       265.07466667, 230.25266667, 304.6675    , 260.805     ,\n",
       "       316.75      , 228.63      , 225.79      , 246.82052381,\n",
       "       189.07      , 232.94      , 199.92295238, 255.41666667,\n",
       "       217.32      , 277.03035714, 195.36333333, 268.655     ,\n",
       "       271.23      , 272.54      , 193.00585714, 194.93      ,\n",
       "       253.824     , 222.64      , 177.86166667, 182.08166667,\n",
       "       261.99      , 208.31416667, 299.915     , 199.27      ,\n",
       "       240.47333333, 256.98      , 243.75      , 183.14      ,\n",
       "       221.99      , 255.26      , 290.74      , 321.48894444,\n",
       "       269.06      , 203.47      , 250.62      , 192.8       ,\n",
       "       231.105     , 273.985     , 257.2725    , 237.97      ,\n",
       "       232.94      , 209.34      , 198.158     , 210.52      ,\n",
       "       266.93      , 267.7435    , 228.015     , 213.34      ,\n",
       "       269.49      , 234.405     , 251.765     , 180.81333333,\n",
       "       267.76833333, 239.9055    , 193.82      , 278.10666667,\n",
       "       249.88      , 198.7       , 283.75      , 238.25      ,\n",
       "       292.73285714, 180.4       , 258.01      , 227.0225    ,\n",
       "       283.13      , 242.78      , 196.64      , 212.04      ,\n",
       "       199.0425    , 277.71      , 196.42666667, 209.01      ,\n",
       "       184.        , 214.554     , 251.415     , 213.705     ,\n",
       "       280.8       , 293.41142857, 274.785     , 311.87216667,\n",
       "       227.01321429, 270.9175    , 205.39166667, 225.53333333,\n",
       "       253.37      , 294.483     , 213.9695    , 239.631     ,\n",
       "       179.97      , 204.6202381 , 196.05      , 257.93      ,\n",
       "       203.16916667, 225.63      , 228.63      , 321.48183333,\n",
       "       201.11      , 249.03      , 201.95      , 234.19      ,\n",
       "       253.88333333, 252.50571429, 265.26      , 213.        ,\n",
       "       179.45      , 262.992     , 283.275     , 210.7       ,\n",
       "       186.31916667, 310.528     , 241.5585    , 217.9       ,\n",
       "       228.53833333, 248.08833333, 274.24166667, 227.42940476,\n",
       "       258.95      , 195.52780952, 191.74716667, 227.18      ,\n",
       "       187.465     , 189.69      , 278.16      , 268.04951587,\n",
       "       182.08166667, 213.91666667, 300.582     , 185.8455    ,\n",
       "       232.96933333, 290.87      , 215.685     , 262.919     ,\n",
       "       274.70654762, 297.78916667, 227.53833333, 236.91866667,\n",
       "       290.57533333, 293.45      , 191.05      , 294.483     ,\n",
       "       249.62290476, 241.        , 208.97333333, 220.36      ,\n",
       "       292.8687619 , 192.305     , 184.        , 190.46      ,\n",
       "       222.734     , 213.31      , 209.        , 206.46666667,\n",
       "       247.27571429, 184.99269048, 206.086     , 206.48      ,\n",
       "       279.94      , 257.2725    , 231.585     , 229.69      ,\n",
       "       277.9975    , 277.68      , 226.51333333, 259.962     ,\n",
       "       269.58      , 239.8       , 204.79      , 265.27783333,\n",
       "       213.73166667, 246.95      , 248.98833333, 253.31      ,\n",
       "       229.254     , 218.07      , 321.51538095, 247.27571429,\n",
       "       213.3       , 204.54      , 257.8825    , 297.77966667,\n",
       "       185.08833333, 219.045     , 274.76      , 268.37      ,\n",
       "       260.43      , 207.69      , 278.01      , 281.48      ,\n",
       "       278.30333333, 222.78166667, 176.47714286, 251.415     ,\n",
       "       206.93      , 276.82933333, 219.08      , 263.115     ,\n",
       "       238.10666667, 196.39      , 262.04      , 275.27      ,\n",
       "       242.205     , 187.34      , 196.714     , 258.33666667,\n",
       "       238.41      , 184.        , 248.98833333, 197.73      ,\n",
       "       229.71      , 218.07      , 256.73      , 190.91609524,\n",
       "       283.42666667, 207.39666667, 236.5825    , 196.2       ,\n",
       "       252.12166667, 218.815     , 210.43      , 197.27333333,\n",
       "       279.71492857, 237.91      , 246.44571429, 243.8575    ,\n",
       "       208.86666667, 278.936     , 197.587     , 277.19      ,\n",
       "       245.11      , 260.99833333, 278.42066667, 198.097     ,\n",
       "       186.89633333, 283.4485    , 185.705     , 220.63      ,\n",
       "       257.105     , 270.93      , 249.03      , 220.935     ,\n",
       "       240.78      , 196.92666667, 192.7865    , 279.11333333,\n",
       "       216.75666667, 243.125     , 186.92      , 212.36      ,\n",
       "       228.91      , 247.63952381, 251.78266667, 283.76933333,\n",
       "       176.20166667, 194.4252381 , 219.01      , 296.787     ,\n",
       "       188.63      , 230.101     , 218.73      , 245.45      ,\n",
       "       229.21133333, 226.66216667, 178.42714286, 257.01083333,\n",
       "       216.69      , 207.5775    , 186.27      , 217.67      ,\n",
       "       259.22      , 197.12      , 213.87666667, 214.604     ,\n",
       "       241.68      , 255.54      , 246.56      , 191.58266667,\n",
       "       280.19      , 248.04      , 290.74      , 240.38      ,\n",
       "       234.02      , 186.81633333, 274.29      , 177.095     ,\n",
       "       219.9       , 259.962     , 260.19      , 182.72047619,\n",
       "       207.97      , 198.22      , 230.17      , 263.67083333,\n",
       "       274.70654762, 258.87      , 206.94916667, 250.35      ,\n",
       "       242.81      , 290.615     , 195.65857143, 264.99      ,\n",
       "       179.138     , 221.42      , 217.91      , 201.70666667,\n",
       "       213.78      , 209.61      , 273.995     , 285.64      ,\n",
       "       292.83      , 248.56      , 213.34      , 242.05833333,\n",
       "       224.77      , 217.78666667, 225.53333333, 194.85      ,\n",
       "       249.62290476, 219.53      , 176.42      , 187.44      ,\n",
       "       204.83      , 175.945     , 247.09      , 293.07583333,\n",
       "       272.97      , 311.24107143, 220.07      , 278.30333333,\n",
       "       302.        , 210.05      , 198.81      , 218.835     ,\n",
       "       190.24      , 241.7375    , 246.53      , 224.28416667,\n",
       "       221.26833333, 281.67292857, 201.94      , 271.869     ,\n",
       "       285.44      , 266.30466667, 202.86      , 259.56      ,\n",
       "       276.22216667, 207.4       , 207.76333333, 256.32      ,\n",
       "       249.75952381, 238.04      , 179.92      , 259.82366667,\n",
       "       184.39      , 229.21133333, 242.        , 200.03666667,\n",
       "       293.33666667, 220.78      , 244.24333333, 197.62      ,\n",
       "       213.64485714, 203.91      , 207.71      , 204.24666667,\n",
       "       283.6107619 , 186.92      , 189.87416667, 210.5       ,\n",
       "       302.        , 234.83      , 194.60219048, 195.76      ,\n",
       "       289.08942857, 293.964     , 275.93257143, 294.14      ,\n",
       "       266.24      , 264.37166667, 211.73      , 258.795     ,\n",
       "       247.374     , 228.91      , 279.59      , 177.09      ,\n",
       "       233.1375    , 259.68      , 196.88      , 228.98      ,\n",
       "       221.53133333, 230.05      , 252.84      , 286.25      ,\n",
       "       246.947     , 295.58      , 283.89266667, 232.44666667,\n",
       "       220.05      , 200.94      , 194.4252381 , 268.87      ,\n",
       "       258.794     , 216.91      , 215.635     , 296.668     ,\n",
       "       203.94      , 276.9275    , 247.41028571, 249.7775    ,\n",
       "       242.        , 192.09      , 292.32966667, 203.73233333,\n",
       "       285.64      , 211.78083333, 219.697     , 240.38      ,\n",
       "       220.08666667, 265.2725    , 246.63      , 228.58      ,\n",
       "       232.74      , 199.69      , 242.        , 232.97333333,\n",
       "       246.91      , 198.88      , 262.92      , 219.13      ,\n",
       "       213.31      , 281.1375    , 184.3825    , 265.22066667,\n",
       "       213.15      , 225.44666667, 261.995     , 198.81      ,\n",
       "       214.83      , 221.79316667, 219.50133333, 216.97666667,\n",
       "       203.70155556, 193.42380952, 258.7       , 176.765     ,\n",
       "       213.5925    , 248.89      , 279.11333333, 266.2       ,\n",
       "       218.96      , 293.964     , 254.76      , 186.975     ,\n",
       "       202.5775    , 290.55666667, 248.3125    , 254.18      ,\n",
       "       207.7675    , 266.76533333, 213.25333333, 220.82833333,\n",
       "       222.53      , 184.07      , 212.03      , 252.12333333,\n",
       "       193.94      , 260.69      , 234.6       , 283.71804762,\n",
       "       274.58833333, 208.31      , 232.59      , 182.82      ,\n",
       "       263.22309524, 179.67      , 246.23      , 235.3535    ,\n",
       "       187.14      , 195.29666667, 239.58548413, 275.685     ,\n",
       "       203.17583333, 182.61366667, 302.36      , 282.52216667,\n",
       "       254.14      , 283.4485    , 203.87      , 184.385     ,\n",
       "       265.0235    , 283.49880952, 182.61366667, 242.        ,\n",
       "       269.49      , 272.70666667, 210.7575    , 243.86714286,\n",
       "       225.79116667, 202.17      , 262.2075    , 294.483     ,\n",
       "       293.005     , 247.125     , 222.61      , 198.3735    ,\n",
       "       261.06583333, 228.65      , 275.57      , 253.18      ,\n",
       "       283.6107619 , 226.61833333, 224.17083333, 263.842     ,\n",
       "       214.15      , 230.42      , 183.26      , 210.63      ,\n",
       "       191.58266667, 214.657     , 231.20083333, 203.93933333,\n",
       "       283.03      , 205.02      , 210.89      , 261.118     ,\n",
       "       266.06      , 265.86583333, 272.78      , 177.65930952,\n",
       "       251.285     , 197.301     , 195.92      , 177.46      ,\n",
       "       208.31416667, 257.21      , 294.14      , 243.36      ,\n",
       "       181.04      , 271.0835873 , 324.9       , 222.53      ,\n",
       "       240.88      , 184.91033333, 231.69      , 209.54      ,\n",
       "       201.41666667, 298.025     , 231.88      , 233.455     ,\n",
       "       253.78      , 254.59542857, 186.68      , 195.40047619,\n",
       "       264.97      , 298.64      , 266.75      , 231.20083333,\n",
       "       195.30666667, 254.04      , 258.46      , 185.44      ,\n",
       "       260.805     , 285.70752381, 275.27      , 220.54      ,\n",
       "       196.19      , 228.23      , 212.14916667, 254.92583333,\n",
       "       258.42      , 229.95542857, 285.61      , 197.27333333,\n",
       "       229.213     , 224.45      , 187.47      , 228.37040476,\n",
       "       237.67      , 215.07      , 240.2175    , 209.5       ,\n",
       "       242.8975    , 310.03383333, 208.94      , 258.035     ,\n",
       "       222.85657143, 199.67      , 256.375     , 195.30666667,\n",
       "       301.54      , 214.624     , 188.07769048, 261.995     ,\n",
       "       251.585     , 237.97      , 247.56      , 215.1075    ,\n",
       "       232.61666667, 257.07      , 258.35      , 250.982     ,\n",
       "       255.83      , 249.75619048, 192.03      , 288.02      ,\n",
       "       269.47      , 191.976     , 186.5       , 204.68      ,\n",
       "       228.015     , 230.62      , 230.25266667, 198.64      ,\n",
       "       215.31      , 276.9875    , 264.74602381, 199.0025    ,\n",
       "       295.98      , 218.81      , 211.30166667, 260.59      ,\n",
       "       201.11      , 209.575     , 272.91      , 242.965     ,\n",
       "       249.41      , 228.31908333, 253.235     , 256.525     ,\n",
       "       225.50925   , 189.048     , 233.6327381 , 220.63333333,\n",
       "       270.88      , 270.7775    , 269.6275    , 241.23066667,\n",
       "       240.50042857, 254.541     , 240.71      , 201.94      ,\n",
       "       246.        , 210.5       , 216.64666667, 232.68333333,\n",
       "       234.58      , 250.48666667, 238.783     , 222.133     ,\n",
       "       220.02183333, 198.82      , 215.61      , 198.3735    ,\n",
       "       245.44      , 252.0347619 , 229.99      , 267.40316667,\n",
       "       233.16      , 271.55714286, 262.64      , 215.635     ,\n",
       "       228.72666667, 203.47      , 239.5225    , 247.27571429,\n",
       "       212.86      , 176.47714286, 215.03      , 179.22386905,\n",
       "       248.08      , 243.57333333, 250.214     , 264.80666667,\n",
       "       198.05      , 249.22083333, 290.32      , 243.41      ,\n",
       "       198.0845    , 179.7275    , 232.94      , 186.945     ,\n",
       "       210.05      , 225.21916667, 256.51      , 229.04      ,\n",
       "       266.441     , 216.715     , 196.52333333, 285.38380952,\n",
       "       231.12      , 207.97      , 239.214     , 200.13      ,\n",
       "       239.235     , 207.17      , 289.48      , 248.34      ,\n",
       "       208.1375    , 273.93583333, 295.92      , 231.94      ,\n",
       "       221.42      , 253.01      , 179.03      , 186.71      ,\n",
       "       208.86333333, 310.54583333, 233.03      , 192.58666667,\n",
       "       195.6352381 , 223.975     , 209.45      , 213.72635714,\n",
       "       261.24      , 224.195     , 189.85      ])"
      ]
     },
     "execution_count": 56,
     "metadata": {},
     "output_type": "execute_result"
    }
   ],
   "source": [
    "y_pred=rf.predict(x_test)\n",
    "y_pred"
   ]
  },
  {
   "cell_type": "markdown",
   "metadata": {},
   "source": [
    "# TO CHECK ACCURACY OF THE MODEL "
   ]
  },
  {
   "cell_type": "code",
   "execution_count": 57,
   "metadata": {},
   "outputs": [
    {
     "data": {
      "text/plain": [
       "0.9818373727583253"
      ]
     },
     "execution_count": 57,
     "metadata": {},
     "output_type": "execute_result"
    }
   ],
   "source": [
    "from sklearn.metrics import r2_score\n",
    "r2_score(y_test,y_pred)"
   ]
  },
  {
   "cell_type": "code",
   "execution_count": null,
   "metadata": {},
   "outputs": [],
   "source": []
  }
 ],
 "metadata": {
  "kernelspec": {
   "display_name": "Python 3",
   "language": "python",
   "name": "python3"
  },
  "language_info": {
   "codemirror_mode": {
    "name": "ipython",
    "version": 3
   },
   "file_extension": ".py",
   "mimetype": "text/x-python",
   "name": "python",
   "nbconvert_exporter": "python",
   "pygments_lexer": "ipython3",
   "version": "3.7.4"
  }
 },
 "nbformat": 4,
 "nbformat_minor": 2
}
